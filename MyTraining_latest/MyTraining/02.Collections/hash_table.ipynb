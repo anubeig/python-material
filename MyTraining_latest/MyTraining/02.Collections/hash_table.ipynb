{
 "cells": [
  {
   "cell_type": "code",
   "execution_count": null,
   "metadata": {
    "collapsed": true
   },
   "outputs": [],
   "source": [
    "A hash table maps a possibly infinite domain to a finite output range. \n",
    "\n",
    "To map a set of infinite inputs to a set of finite outputs, we use hash functions.\n",
    "\n",
    "For this demonstration we use a simple hash function, using the modulus operator such that\n",
    "\n",
    "Z insert(table,13,'tangerine')\n",
    "\n",
    "\n",
    "\n",
    "\n",
    "Now what do we do?\n",
    "\n",
    "There are several ways to resolve collisions, such as chaining (we are going to use this), open addressing and so on.\n",
    "\n",
    "Second Approach with chaining\n",
    "\n",
    "Now, instead of only a list as an output table, we use a list of lists. Every list inside this master list is a sort of a bucket in which we insert (key,value) pairs.\n",
    "\n",
    "table = [[] for x in range(10)]\n",
    "\n",
    "\n",
    "In other languages, you could use a linked list for this operation. Visually this looks like a linked list.\n",
    "\n",
    "\n",
    "\n",
    "\n",
    "Our hash function remains the same. We change the insert function as follows\n",
    "\n",
    " \n",
    "def insert(table,input,value): table[hash_function(input)].append((input,value))\n",
    "\n",
    "\n",
    "Let's insert a few values.\n",
    "\n",
    "insert(table,41,'apple')\n",
    "insert(table,93,'banana')\n",
    "insert(table,13,'tangerine')\n",
    "\n",
    "\n",
    "Our table looks like this now\n",
    "\n",
    "\n",
    "\n",
    "Thus, we have implemented a rudimentary but working hash table.\n",
    "\n",
    "Note that to retrieve a value, we find the index, traverse the list at the index, match the input value to the key of that tuple and decide if it is present. If we reach the end of the list, the given value is not present. \n",
    "\n",
    "Extra\n",
    "\n",
    "If there are too many inputs, the load factor (number of inputs divided by table size) becomes too large, too many inputs will be inserted into one index and the table will become slow, that is, the time complexity will increase. We aim for a O(1)O(1) time complexity for a table.\n",
    "Load factor α=nkα=nk should be low. nn is the number of inputs and kk is the table size.\n",
    "If the number of inputs exceeds a particular threshold, we use techniques like table doubling to reduce the load factor."
   ]
  }
 ],
 "metadata": {
  "kernelspec": {
   "display_name": "Python 2",
   "language": "python",
   "name": "python2"
  },
  "language_info": {
   "codemirror_mode": {
    "name": "ipython",
    "version": 2
   },
   "file_extension": ".py",
   "mimetype": "text/x-python",
   "name": "python",
   "nbconvert_exporter": "python",
   "pygments_lexer": "ipython2",
   "version": "2.7.6"
  }
 },
 "nbformat": 4,
 "nbformat_minor": 0
}
